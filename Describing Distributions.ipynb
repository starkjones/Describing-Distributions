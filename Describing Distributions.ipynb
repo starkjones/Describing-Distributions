{
 "cells": [
  {
   "cell_type": "markdown",
   "id": "4ceaf123",
   "metadata": {},
   "source": [
    "# ***Describing Probability Distributions***"
   ]
  },
  {
   "cell_type": "code",
   "execution_count": 2,
   "id": "35d84cd3",
   "metadata": {},
   "outputs": [],
   "source": [
    "## Libraries:\n",
    "\n",
    "import numpy as np\n",
    "import pandas as pd\n",
    "import matplotlib.pyplot as plt\n",
    "import seaborn as sns\n",
    "\n",
    "## Importing the OS and JSON Modules:\n",
    "import os,json"
   ]
  },
  {
   "cell_type": "code",
   "execution_count": 4,
   "id": "e3879bf6",
   "metadata": {},
   "outputs": [
    {
     "ename": "SyntaxError",
     "evalue": "(unicode error) 'unicodeescape' codec can't decode bytes in position 2-3: truncated \\UXXXXXXXX escape (2896574147.py, line 3)",
     "output_type": "error",
     "traceback": [
      "\u001b[1;36m  File \u001b[1;32m\"C:\\Users\\jnate\\AppData\\Local\\Temp\\ipykernel_10808\\2896574147.py\"\u001b[1;36m, line \u001b[1;32m3\u001b[0m\n\u001b[1;33m    mddf = pd.read_csv('C:\\Users\\jnate\\OneDrive\\Documents\\Data Enrichment\\data-enrichment-wk15\\Describing-Distributions')\u001b[0m\n\u001b[1;37m                      ^\u001b[0m\n\u001b[1;31mSyntaxError\u001b[0m\u001b[1;31m:\u001b[0m (unicode error) 'unicodeescape' codec can't decode bytes in position 2-3: truncated \\UXXXXXXXX escape\n"
     ]
    }
   ],
   "source": [
    "# Load data:\n",
    "\n",
    "mddf = pd.read_csv('C:\\Users\\jnate\\OneDrive\\Documents\\Data Enrichment\\data-enrichment-wk15\\Describing-Distributions')\n",
    "\n",
    "mddf.head(5)"
   ]
  },
  {
   "cell_type": "markdown",
   "id": "a4b74518",
   "metadata": {},
   "source": [
    "1. Plot a histogram with a kde (kernel density estimate)"
   ]
  },
  {
   "cell_type": "code",
   "execution_count": null,
   "id": "c1216b7d",
   "metadata": {},
   "outputs": [],
   "source": []
  }
 ],
 "metadata": {
  "kernelspec": {
   "display_name": "Python (dojo-env)",
   "language": "python",
   "name": "dojo-env"
  },
  "language_info": {
   "codemirror_mode": {
    "name": "ipython",
    "version": 3
   },
   "file_extension": ".py",
   "mimetype": "text/x-python",
   "name": "python",
   "nbconvert_exporter": "python",
   "pygments_lexer": "ipython3",
   "version": "3.7.12"
  },
  "toc": {
   "base_numbering": 1,
   "nav_menu": {},
   "number_sections": true,
   "sideBar": true,
   "skip_h1_title": false,
   "title_cell": "Table of Contents",
   "title_sidebar": "Contents",
   "toc_cell": false,
   "toc_position": {},
   "toc_section_display": true,
   "toc_window_display": false
  }
 },
 "nbformat": 4,
 "nbformat_minor": 5
}
